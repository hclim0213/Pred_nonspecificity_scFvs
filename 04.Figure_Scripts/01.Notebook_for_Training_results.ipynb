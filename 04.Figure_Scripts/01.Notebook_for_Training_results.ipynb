{
 "cells": [
  {
   "cell_type": "code",
   "execution_count": null,
   "id": "85303efb",
   "metadata": {},
   "outputs": [],
   "source": [
    "import numpy as np\n",
    "import pandas as pd\n",
    "import matplotlib.pyplot as plt\n",
    "from sklearn.metrics import roc_curve, roc_auc_score, classification_report\n",
    "import pickle\n",
    "import sys\n",
    "import warnings\n",
    "warnings.filterwarnings(\"ignore\")"
   ]
  },
  {
   "cell_type": "code",
   "execution_count": null,
   "id": "c2f3a9c3",
   "metadata": {},
   "outputs": [],
   "source": [
    "# load data\n",
    "data_train = pd.read_csv('../02.Features/mAb_F46_UniRep_train.tsv', sep='\\t', header=0)\n",
    "data_test = pd.read_csv('../02.Features/mAb_F46_UniRep_test.tsv', sep='\\t', header=0)\n",
    "\n",
    "X_train = data_train.iloc[:, 2:].to_numpy()\n",
    "y_train = data_train.iloc[:, 1].to_numpy()\n",
    "X_test = data_test.iloc[:, 2:].to_numpy()\n",
    "y_test = data_test.iloc[:, 1].to_numpy()"
   ]
  },
  {
   "cell_type": "code",
   "execution_count": null,
   "id": "05b355ec",
   "metadata": {},
   "outputs": [],
   "source": [
    "# load model and its history in Grid Search\n",
    "clf = pickle.load('../03.Models/06.F46_UniRep/mAb_F46_UniRep_grid_GBM.pkl')\n",
    "print(clf.cv_results_)"
   ]
  },
  {
   "cell_type": "code",
   "execution_count": null,
   "id": "2ff2252b",
   "metadata": {},
   "outputs": [],
   "source": [
    "# Report Classification results\n",
    "print('# TRAINING')\n",
    "print('train AUC: ', roc_auc_score(y_train, clf.predict_proba(X_train)[:,1]))\n",
    "print(classification_report(y_train, clf.predict(X_train)))\n",
    "print('')\n",
    "print('# TEST')\n",
    "print('test AUC: ', roc_auc_score(y_test, clf.predict_proba(X_test)[:,1]))\n",
    "print(classification_report(y_test, clf.predict(X_test)))"
   ]
  }
 ],
 "metadata": {
  "kernelspec": {
   "display_name": "Python 3 (ipykernel)",
   "language": "python",
   "name": "python3"
  },
  "language_info": {
   "codemirror_mode": {
    "name": "ipython",
    "version": 3
   },
   "file_extension": ".py",
   "mimetype": "text/x-python",
   "name": "python",
   "nbconvert_exporter": "python",
   "pygments_lexer": "ipython3",
   "version": "3.7.13"
  }
 },
 "nbformat": 4,
 "nbformat_minor": 5
}
